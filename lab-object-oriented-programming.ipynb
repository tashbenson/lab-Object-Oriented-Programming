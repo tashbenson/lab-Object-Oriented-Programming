{
 "cells": [
  {
   "cell_type": "markdown",
   "id": "9bc1f932",
   "metadata": {},
   "source": [
    "## Create a class\n",
    "Crete a Python Tv class with a constructor and the following attributes:\n",
    "\n",
    "* on (Boolean)\n",
    "* volume (float in [0,100])\n",
    "* active_channel (int in [1,10])\n",
    "* input (str in [\"Anthena\", \"HDMI1\", \"HDMI2\", \"HDMI3\"])\n",
    "* size (float in [42, 50, 55, 65, 75])\n",
    "\n",
    "## Methods\n",
    "\n",
    "* switch_on()\n",
    "* switch_off()\n",
    "* set_volume(volume: int)\n",
    "* change_channel(channel: int)\n",
    "* set_input(value: str)"
   ]
  },
  {
   "cell_type": "code",
   "execution_count": 35,
   "id": "a219af1b",
   "metadata": {},
   "outputs": [],
   "source": [
    "class TV(object):\n",
    "    \n",
    "    def __init__(self, on, volume, active_channel, input_, size=42):\n",
    "        # self is the instance of the class.\n",
    "        # Here we define all the \"attributes\" of the class. Bear in mind that the attributes can be of ANY type\n",
    "        # name -> str\n",
    "        # age -> int\n",
    "        # salay -> float\n",
    "        # department -> string\n",
    "        # we can also set attributes as lists, dictionaries,...etc.\n",
    "        self.on = on\n",
    "        self.volume = volume\n",
    "        self.active_channel = active_channel\n",
    "        self.input_ = input_\n",
    "        self.size = size\n",
    " \n",
    "    def switch_on(self):\n",
    "        if self.on == True:\n",
    "            print(\"TV is turned on\")\n",
    "            \n",
    "    def switch_off(self):\n",
    "        if self.on == False:\n",
    "            print(\"TV is turned off\")\n",
    "            \n",
    "    def set_volume(self, vol):\n",
    "        self.volume = vol if vol in range(101) else 10\n",
    "        print('Volume:', self.volume)\n",
    "    \n",
    "    def change_channel(self, channel):\n",
    "        self.active_channel = channel if channel in range(11) else \"Channel does not exist\"\n",
    "        print('Channel:', self.active_channel)\n",
    "    \n",
    "    def set_input(self, value):\n",
    "        self.input_ = value if value in (\"Anthena\", \"HDMI1\", \"HDMI2\", \"HDMI3\") else 'Input does not exist'\n",
    "        print('Input:', self.input_)\n",
    "\n"
   ]
  },
  {
   "cell_type": "code",
   "execution_count": 14,
   "id": "2885e219",
   "metadata": {},
   "outputs": [],
   "source": [
    "tv1 = TV(True, 10, 3, 'HDMI1')"
   ]
  },
  {
   "cell_type": "code",
   "execution_count": 16,
   "id": "d401053a",
   "metadata": {},
   "outputs": [
    {
     "name": "stdout",
     "output_type": "stream",
     "text": [
      "TV is turned on\n"
     ]
    }
   ],
   "source": [
    "TV.switch_on(tv1)"
   ]
  },
  {
   "cell_type": "code",
   "execution_count": 31,
   "id": "f6a0c72e",
   "metadata": {},
   "outputs": [
    {
     "name": "stdout",
     "output_type": "stream",
     "text": [
      "Volume: 40\n"
     ]
    }
   ],
   "source": [
    "TV.set_volume(tv1, 40)"
   ]
  },
  {
   "cell_type": "code",
   "execution_count": 36,
   "id": "c32c5f13",
   "metadata": {},
   "outputs": [
    {
     "name": "stdout",
     "output_type": "stream",
     "text": [
      "Channel: 4\n"
     ]
    }
   ],
   "source": [
    "TV.change_channel(tv1, 4)"
   ]
  },
  {
   "cell_type": "code",
   "execution_count": 25,
   "id": "dfe10e12",
   "metadata": {},
   "outputs": [
    {
     "name": "stdout",
     "output_type": "stream",
     "text": [
      "Input: HDMI2\n"
     ]
    }
   ],
   "source": [
    "TV.set_input(tv1, 'HDMI2')"
   ]
  }
 ],
 "metadata": {
  "kernelspec": {
   "display_name": "Python 3 (ipykernel)",
   "language": "python",
   "name": "python3"
  },
  "language_info": {
   "codemirror_mode": {
    "name": "ipython",
    "version": 3
   },
   "file_extension": ".py",
   "mimetype": "text/x-python",
   "name": "python",
   "nbconvert_exporter": "python",
   "pygments_lexer": "ipython3",
   "version": "3.9.13"
  }
 },
 "nbformat": 4,
 "nbformat_minor": 5
}
